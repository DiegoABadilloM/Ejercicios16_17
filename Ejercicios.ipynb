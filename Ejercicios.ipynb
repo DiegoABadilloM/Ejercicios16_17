{
 "cells": [
  {
   "cell_type": "code",
   "execution_count": 55,
   "metadata": {},
   "outputs": [],
   "source": [
    "import math"
   ]
  },
  {
   "cell_type": "markdown",
   "metadata": {},
   "source": [
    "## Ejercicio 16: Trabajo en equipo.\n",
    "\n",
    "En un grupo de 25 alumnos hay 13 chicas y 12 chicos. Se desean formar equipos de trabajo para realizar una investigación:"
   ]
  },
  {
   "cell_type": "markdown",
   "metadata": {},
   "source": [
    "a) ¿Cuántos equipos de cinco personas pueden formarse?\n",
    "\n",
    "Tenemos un total de 25 alumnos y si queremos realizar equipos de cinco personas cada uno usariamos la formula de las combinaciones, la cual es: \n",
    "$$\n",
    "\\begin{align}\n",
    "    \\binom{n}{k} = \\frac{n!}{k!(n-k)!}\n",
    "\\end{align}\n",
    "$$\n",
    "\n",
    "Donde n = 25 y k = 5\n",
    "\n",
    "$$\n",
    "\\begin{align}\n",
    "    \\binom{25}{5} &= \\frac{25!}{5!(25-5)!}  &= 53130 \\\\ \n",
    "\\end{align}\n",
    "$$"
   ]
  },
  {
   "cell_type": "code",
   "execution_count": 56,
   "metadata": {},
   "outputs": [
    {
     "name": "stdout",
     "output_type": "stream",
     "text": [
      "La cantidad de equipos que se pueden formar con 5 alumnos son: 17160\n"
     ]
    }
   ],
   "source": [
    "\n",
    "equiposA = math.comb(25,5)\n",
    "\n",
    "print(f'La cantidad de equipos que se pueden formar con 5 alumnos son: {equipos}')"
   ]
  },
  {
   "cell_type": "markdown",
   "metadata": {},
   "source": [
    "b) ¿Cuántos equipos pueden formarse si debe haber una chica?\n",
    "\n",
    "Primero debemos saber que si solo hay una chica en el equipo significa que los otros 4 integrantes seran chicos, sabiendo eso usamos la formula de las combinaciones para saber cuantas posibilidades hay de obtener a una chica en el equipo, y aparte saber cuantas hay de obtener a 4 chicos, para despues multiplicarlas entre si:\n",
    "$$\n",
    "\\begin{align}\n",
    "\\binom{13}{1} = \\frac{13!}{1!(13-1)!} = 13\n",
    "\\end{align}\n",
    "$$\n",
    "Son 13 posibilidades de que haya 1 chica en el equipo\n",
    "$$\n",
    "\\begin{align}\n",
    "\\binom{12}{4} = \\frac{12!}{4!(12-4)!} = 495\n",
    "\\end{align}\n",
    "$$\n",
    "Son 495 posibilidades de que haya 4 chicos en el equipo\n",
    "\n",
    "$$\n",
    "\\begin{align}\n",
    "    13 * 495 = 6435\n",
    "\\end{align}\n",
    "$$\n",
    "\n",
    "Ahora multiplicamos los resultados entre si para saber la cantidad de equipos posibles (los cuales son 6435)\n",
    "\n"
   ]
  },
  {
   "cell_type": "code",
   "execution_count": 57,
   "metadata": {},
   "outputs": [
    {
     "name": "stdout",
     "output_type": "stream",
     "text": [
      "La cantidad de equipos que se pueden formar con 1 chica y 4 chicos son: 17160\n"
     ]
    }
   ],
   "source": [
    "equiposB = math.comb(13,1) * math.comb(12,4)\n",
    "print(f'La cantidad de equipos que se pueden formar con 1 chica y 4 chicos son: {equipos}')"
   ]
  },
  {
   "cell_type": "markdown",
   "metadata": {},
   "source": [
    "c) ¿Cuántos equipos pueden formarse si debe haber dos chicas?\n",
    "\n",
    "Siguiendo el mismo procedimiento del ejercicio anterior\n",
    "\n",
    "Primero debemos saber que si solo hay dos chicas en el equipo significa que los otros 3 integrantes seran chicos, sabiendo eso usamos la formula de las combinaciones para saber cuantas posibilidades hay de obtener a dos chicas en el equipo, y aparte saber cuantas hay de obtener a 3 chicos, para despues multiplicarlas entre si:\n",
    "$$\n",
    "\\begin{align}\n",
    "\\binom{13}{2} = \\frac{13!}{2!(13-2)!} = 78\n",
    "\\end{align}\n",
    "$$\n",
    "Son 78 posibilidades de que haya 2 chicas en el equipo\n",
    "$$\n",
    "\\begin{align}\n",
    "\\binom{12}{3} = \\frac{12!}{3!(12-3)!} = 220\n",
    "\\end{align}\n",
    "$$\n",
    "Son 220 posibilidades de que haya 3 chicos en el equipo\n",
    "\n",
    "$$\n",
    "\\begin{align}\n",
    "    78 * 220 = 17160\n",
    "\\end{align}\n",
    "$$\n",
    "Ahora multiplicamos los resultados entre si para saber la cantidad de equipos posibles (los cuales son 17160)"
   ]
  },
  {
   "cell_type": "code",
   "execution_count": 58,
   "metadata": {},
   "outputs": [
    {
     "name": "stdout",
     "output_type": "stream",
     "text": [
      "La cantidad de equipos que se pueden formar con 2 chicas y 3 chicos son: 17160\n"
     ]
    }
   ],
   "source": [
    "equiposC = math.comb(13,2) * math.comb(12,3)\n",
    "print(f'La cantidad de equipos que se pueden formar con 2 chicas y 3 chicos son: {equipos}')"
   ]
  },
  {
   "cell_type": "markdown",
   "metadata": {},
   "source": [
    "d) Determina las probabilidades correspondientes a los incisos anteriores.\n",
    "\n",
    "Para obtener las probabilidades correspondientes debemos saber que la probabilidad de obtiene dividiendo la cantidad de casos favorables entre la cantidad de casos totales:\n",
    "\n",
    "$$\n",
    "\\begin{align}\n",
    "    Probabilidad = \\frac{Casos Favorables}{Casos Totales}\n",
    "\\end{align}\n",
    "$$\n",
    "\n",
    "Ya con eso podemos obtener las probabilidades correspondientes\n",
    "\n",
    "Para el inciso b:\n",
    "\n",
    "$$\n",
    "\\begin{align}\n",
    "    Probabilidad = \\frac{6435}{53130} =\n",
    "\\end{align}\n",
    "$$\n",
    "\n",
    "Y para el inciso c:\n",
    "\n",
    "$$\n",
    "\\begin{align}\n",
    "    Probabilidad = \\frac{17160}{53130} =\n",
    "\\end{align}\n",
    "$$"
   ]
  },
  {
   "cell_type": "code",
   "execution_count": 59,
   "metadata": {},
   "outputs": [
    {
     "name": "stdout",
     "output_type": "stream",
     "text": [
      "La probabilidad de que salga un equipo con una chica y cuatro chicos es de: 12.11 %\n",
      "La probabilidad de que salga un equipo con dos chicas y tres chicos es de: 32.3 %\n"
     ]
    }
   ],
   "source": [
    "ProbabilidadB = equiposB/equiposA\n",
    "print(f'La probabilidad de que salga un equipo con una chica y cuatro chicos es de: {round(ProbabilidadB*100,2)} %')\n",
    "ProbabilidadC = equiposC/equiposA\n",
    "print(f'La probabilidad de que salga un equipo con dos chicas y tres chicos es de: {round(ProbabilidadC*100,2)} %')\n"
   ]
  },
  {
   "cell_type": "markdown",
   "metadata": {},
   "source": [
    "## Ejercicio 17: Control de calidad.\n",
    "\n",
    "Se tiene una caja con 24 latas y se sabe que dos están contaminadas. Se van a seleccionar tres latas al azar para someterlas a una prueba de control de calidad, es decir, para medir los estándares de calidad de la empresa."
   ]
  },
  {
   "cell_type": "markdown",
   "metadata": {},
   "source": [
    "a) ¿Cuántas combinaciones de tres latas pueden hacerse?\n",
    "\n",
    "Aquí nos pide obtener la cantidad de combinaciones que se pueden obtener con tres latas, entonces usamos la formúla de las combinaciones: \n",
    "\n",
    "$$\n",
    "\\begin{align}\n",
    "    \\binom{n}{k} = \\frac{n!}{k!(n-k)!}\n",
    "\\end{align}\n",
    "$$\n",
    "\n",
    "Donde n = 24 y k = 3\n",
    "\n",
    "Donde n = 25 y k = 5\n",
    "\n",
    "$$\n",
    "\\begin{align}\n",
    "    \\binom{24}{3} &= \\frac{24!}{3!(24-3)!}  &= 2024 \\\\ \n",
    "\\end{align}\n",
    "$$"
   ]
  },
  {
   "cell_type": "code",
   "execution_count": 60,
   "metadata": {},
   "outputs": [
    {
     "name": "stdout",
     "output_type": "stream",
     "text": [
      "La cantidad de combinaciones que se pueden hacer de tres latas: 2024\n"
     ]
    }
   ],
   "source": [
    "latasA = math.comb(24,3)\n",
    "print(f'La cantidad de combinaciones que se pueden hacer de tres latas: {tresLatas}')"
   ]
  },
  {
   "cell_type": "markdown",
   "metadata": {},
   "source": [
    "b)¿Cuál es la probabilidad de que se seleccione una lata contaminada para la prueba?\n",
    "\n",
    "En este ejercicio podemos deducir que de las tres latas a las que se les realizan la prueba una sería contaminada y las otras dos serian normales, entonces debemos obtener la cantidad de combinaciones donde esos casos sean favorables.\n",
    "\n",
    "Obtenemos la cantidad de combinaciones que se puedan realizar donde se obtenga una lata de las dos contaminadas\n",
    "\n",
    "$$\n",
    "\\begin{align}\n",
    "\\binom{2}{1} = \\frac{2!}{1!(2-1)!} = 2\n",
    "\\end{align}\n",
    "$$\n",
    "Son 2 posibilidades de que haya una lata contaminada en la prueba\n",
    "\n",
    "Ahora hacemos lo mismo para obtener la cantidad de combinaciones para las latas no contaminadas que serian 22 para obtener solo 2\n",
    "\n",
    "$$\n",
    "\\begin{align}\n",
    "\\binom{22}{2} = \\frac{22!}{2!(22-2)!} = 231\n",
    "\\end{align}\n",
    "$$\n",
    "Son 231 posibilidades de que haya dos latas no contaminadas\n",
    "\n",
    "$$\n",
    "\\begin{align}\n",
    "    2 * 231 = 462\n",
    "\\end{align}\n",
    "$$\n",
    "\n",
    "Ahora multiplicamos los resultados entre si para saber la cantidad de equipos posibles (los cuales son 462)\n",
    "\n",
    "Y para obtener la probabilidad aplicamos la siguiente formula: \n",
    "\n",
    "\n",
    "$$\n",
    "\\begin{align}\n",
    "    Probabilidad = \\frac{Casos Favorables}{Casos Totales}\n",
    "\\end{align}\n",
    "$$\n",
    "\n",
    "Donde los casos favorables son 462 y los casos totales son 2024\n",
    "\n",
    "\n",
    "$$\n",
    "\\begin{align}\n",
    "    Probabilidad = \\frac{462}{2024} = 0.2283\n",
    "\\end{align}\n",
    "$$\n",
    "\n",
    "La probabilidad es de 22.83%\n",
    "\n"
   ]
  },
  {
   "cell_type": "code",
   "execution_count": 61,
   "metadata": {},
   "outputs": [
    {
     "name": "stdout",
     "output_type": "stream",
     "text": [
      "La probabilidad de obtener una lata contaminada en la prueba es de: 22.83 %\n"
     ]
    }
   ],
   "source": [
    "latasB = math.comb(2,1) * math.comb(22,2)\n",
    "ProbabilidadB = latasB / latasA\n",
    "print(f'La probabilidad de obtener una lata contaminada en la prueba es de: {round(ProbabilidadB*100,2)} %')\n"
   ]
  },
  {
   "cell_type": "markdown",
   "metadata": {},
   "source": [
    "c) ¿Cuál es la probabilidad de que se seleccione al menos una lata contaminada para la prueba?\n",
    "\n",
    "Para este ejercicio debemos hacer enfasis en el punto donde dice al menos una lata pues esto nos indica que existe la posibilidad de que haya dos latas contaminadas, como ya obtuvimos anteriormente la probabilidad para una lata ahora solo obtenemos el de dos latas y lo sumamos:\n",
    "\n",
    "btenemos la cantidad de combinaciones que se puedan realizar donde se obtenga dos latas de las dos contaminadas\n",
    "\n",
    "$$\n",
    "\\begin{align}\n",
    "\\binom{2}{2} = \\frac{2!}{2!(2-2)!} = 1\n",
    "\\end{align}\n",
    "$$\n",
    "Hay 1 posibilidad de que haya dos latas contaminadas en la prueba\n",
    "\n",
    "Ahora hacemos lo mismo para obtener la cantidad de combinaciones para las latas no contaminadas que serian 22 para obtener solo 1\n",
    "\n",
    "$$\n",
    "\\begin{align}\n",
    "\\binom{22}{1} = \\frac{22!}{1!(22-1)!} = 22\n",
    "\\end{align}\n",
    "$$\n",
    "Son 22 posibilidades de que haya una lata no contaminadas\n",
    "\n",
    "$$\n",
    "\\begin{align}\n",
    "    1 * 22 = 22\n",
    "\\end{align}\n",
    "$$\n",
    "\n",
    "Aplicamos la formula de la probabilidad\n",
    "\n",
    "$$\n",
    "\\begin{align}\n",
    "    Probabilidad = \\frac{22}{2024} = 0.01\n",
    "\\end{align}\n",
    "$$\n",
    "\n",
    "La probabilidad es de 1.08%\n",
    "\n",
    "Y sumandola a la probabilidad anterior de 22.83% nos da igual a 23.91% en total\n"
   ]
  },
  {
   "cell_type": "markdown",
   "metadata": {},
   "source": []
  },
  {
   "cell_type": "code",
   "execution_count": 65,
   "metadata": {},
   "outputs": [
    {
     "name": "stdout",
     "output_type": "stream",
     "text": [
      "0.010869565217391304\n",
      "La probabilidad de obtener al menos 1 lata contaminada en la prueba es de: 23.91 %\n"
     ]
    }
   ],
   "source": [
    "latasC = math.comb(2,2) * math.comb(22,1)\n",
    "ProbabilidadC1 = latasC / latasA\n",
    "ProbabilidadC2 = ProbabilidadC1+ProbabilidadB\n",
    "print(f'La probabilidad de obtener al menos 1 lata contaminada en la prueba es de: {round(ProbabilidadC2*100,2)} %')\n"
   ]
  },
  {
   "cell_type": "markdown",
   "metadata": {},
   "source": [
    "d) ¿Y la probabilidad de que no se elijan latas contaminadas para la prueba?\n",
    "\n",
    "Ahora como para este punto tenemos los casos contrarios a este inciso que son cualquier caso donde exista una lata contaminada, lo unico que tendriamos que hacer es restarle la probabilidad anterior que es 23.91 a 100 y tendriamos nuestro resultado: \n",
    "\n",
    "$$ 100 - 23.91 =  76.087 $$"
   ]
  },
  {
   "cell_type": "code",
   "execution_count": 70,
   "metadata": {},
   "outputs": [
    {
     "name": "stdout",
     "output_type": "stream",
     "text": [
      "La probabilidad de no obtener ninguna lata contaminada en la prueba es de: 76.09 %\n"
     ]
    }
   ],
   "source": [
    "\n",
    "ProbabilidadD = 1-ProbabilidadC2\n",
    "\n",
    "print(f'La probabilidad de no obtener ninguna lata contaminada en la prueba es de: {round(ProbabilidadD*100,2)} %')"
   ]
  },
  {
   "cell_type": "markdown",
   "metadata": {},
   "source": []
  }
 ],
 "metadata": {
  "kernelspec": {
   "display_name": "Python 3",
   "language": "python",
   "name": "python3"
  },
  "language_info": {
   "codemirror_mode": {
    "name": "ipython",
    "version": 3
   },
   "file_extension": ".py",
   "mimetype": "text/x-python",
   "name": "python",
   "nbconvert_exporter": "python",
   "pygments_lexer": "ipython3",
   "version": "3.11.9"
  }
 },
 "nbformat": 4,
 "nbformat_minor": 2
}
