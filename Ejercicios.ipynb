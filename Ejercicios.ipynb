{
 "cells": [
  {
   "cell_type": "code",
   "execution_count": 38,
   "metadata": {},
   "outputs": [],
   "source": [
    "import math"
   ]
  },
  {
   "cell_type": "markdown",
   "metadata": {},
   "source": [
    "## Ejercicio 16: Trabajo en equipo.\n",
    "\n",
    "En un grupo de 25 alumnos hay 13 chicas y 12 chicos. Se desean formar equipos de trabajo para realizar una investigación:"
   ]
  },
  {
   "cell_type": "markdown",
   "metadata": {},
   "source": [
    "a) ¿Cuántos equipos de cinco personas pueden formarse?\n",
    "\n",
    "Tenemos un total de 25 alumnos y si queremos realizar equipos de cinco personas cada uno usariamos la formula de las combinaciones, la cual es: \n",
    "$$\n",
    "\\begin{align}\n",
    "    \\binom{n}{k} = \\frac{n!}{k!(n-k)!}\n",
    "\\end{align}\n",
    "$$\n",
    "\n",
    "Donde n = 25 y k = 5\n",
    "\n",
    "$$\n",
    "\\begin{align}\n",
    "    \\binom{25}{5} &= \\frac{25!}{5!(25-5)!}  &= 53130 \\\\ \n",
    "\\end{align}\n",
    "$$"
   ]
  },
  {
   "cell_type": "code",
   "execution_count": 39,
   "metadata": {},
   "outputs": [
    {
     "name": "stdout",
     "output_type": "stream",
     "text": [
      "La cantidad de equipos que se pueden formar con 5 alumnos son: 17160\n"
     ]
    }
   ],
   "source": [
    "\n",
    "equiposA = math.comb(25,5)\n",
    "\n",
    "print(f'La cantidad de equipos que se pueden formar con 5 alumnos son: {equipos}')"
   ]
  },
  {
   "cell_type": "markdown",
   "metadata": {},
   "source": [
    "b) ¿Cuántos equipos pueden formarse si debe haber una chica?\n",
    "\n",
    "Primero debemos saber que si solo hay una chica en el equipo significa que los otros 4 integrantes seran chicos, sabiendo eso usamos la formula de las combinaciones para saber cuantas posibilidades hay de obtener a una chica en el equipo, y aparte saber cuantas hay de obtener a 4 chicos, para despues multiplicarlas entre si:\n",
    "$$\n",
    "\\begin{align}\n",
    "\\binom{13}{1} = \\frac{13!}{1!(13-1)!} = 13\n",
    "\\end{align}\n",
    "$$\n",
    "Son 13 posibilidades de que haya 1 chica en el equipo\n",
    "$$\n",
    "\\begin{align}\n",
    "\\binom{12}{4} = \\frac{12!}{4!(12-4)!} = 495\n",
    "\\end{align}\n",
    "$$\n",
    "Son 495 posibilidades de que haya 4 chicos en el equipo\n",
    "\n",
    "$$\n",
    "\\begin{align}\n",
    "    13 * 495 = 6435\n",
    "\\end{align}\n",
    "$$\n",
    "\n",
    "Ahora multiplicamos los resultados entre si para saber la cantidad de equipos posibles (los cuales son 6435)\n",
    "\n"
   ]
  },
  {
   "cell_type": "code",
   "execution_count": 40,
   "metadata": {},
   "outputs": [
    {
     "name": "stdout",
     "output_type": "stream",
     "text": [
      "La cantidad de equipos que se pueden formar con 1 chica y 4 chicos son: 17160\n"
     ]
    }
   ],
   "source": [
    "equiposB = math.comb(13,1) * math.comb(12,4)\n",
    "print(f'La cantidad de equipos que se pueden formar con 1 chica y 4 chicos son: {equipos}')"
   ]
  },
  {
   "cell_type": "markdown",
   "metadata": {},
   "source": [
    "c) ¿Cuántos equipos pueden formarse si debe haber dos chicas?\n",
    "\n",
    "Siguiendo el mismo procedimiento del ejercicio anterior\n",
    "\n",
    "Primero debemos saber que si solo hay dos chicas en el equipo significa que los otros 3 integrantes seran chicos, sabiendo eso usamos la formula de las combinaciones para saber cuantas posibilidades hay de obtener a dos chicas en el equipo, y aparte saber cuantas hay de obtener a 3 chicos, para despues multiplicarlas entre si:\n",
    "$$\n",
    "\\begin{align}\n",
    "\\binom{13}{2} = \\frac{13!}{2!(13-2)!} = 78\n",
    "\\end{align}\n",
    "$$\n",
    "Son 78 posibilidades de que haya 2 chicas en el equipo\n",
    "$$\n",
    "\\begin{align}\n",
    "\\binom{12}{3} = \\frac{12!}{3!(12-3)!} = 220\n",
    "\\end{align}\n",
    "$$\n",
    "Son 220 posibilidades de que haya 3 chicos en el equipo\n",
    "\n",
    "$$\n",
    "\\begin{align}\n",
    "    78 * 220 = 17160\n",
    "\\end{align}\n",
    "$$\n",
    "Ahora multiplicamos los resultados entre si para saber la cantidad de equipos posibles (los cuales son 17160)"
   ]
  },
  {
   "cell_type": "code",
   "execution_count": 41,
   "metadata": {},
   "outputs": [
    {
     "name": "stdout",
     "output_type": "stream",
     "text": [
      "La cantidad de equipos que se pueden formar con 2 chicas y 3 chicos son: 17160\n"
     ]
    }
   ],
   "source": [
    "equiposC = math.comb(13,2) * math.comb(12,3)\n",
    "print(f'La cantidad de equipos que se pueden formar con 2 chicas y 3 chicos son: {equipos}')"
   ]
  },
  {
   "cell_type": "markdown",
   "metadata": {},
   "source": [
    "d) Determina las probabilidades correspondientes a los incisos anteriores.\n",
    "\n",
    "Para obtener las probabilidades correspondientes debemos saber que la probabilidad de obtiene dividiendo la cantidad de casos favorables entre la cantidad de casos totales:\n",
    "\n",
    "$$\n",
    "\\begin{align}\n",
    "    Probabilidad = \\frac{Casos Favorables}{Casos Totales}\n",
    "\\end{align}\n",
    "$$\n",
    "\n",
    "Ya con eso podemos obtener las probabilidades correspondientes\n",
    "\n",
    "Para el inciso b:\n",
    "\n",
    "$$\n",
    "\\begin{align}\n",
    "    Probabilidad = \\frac{6435}{53130} =\n",
    "\\end{align}\n",
    "$$\n",
    "\n",
    "Y para el inciso c:\n",
    "\n",
    "$$\n",
    "\\begin{align}\n",
    "    Probabilidad = \\frac{17160}{53130} =\n",
    "\\end{align}\n",
    "$$"
   ]
  },
  {
   "cell_type": "code",
   "execution_count": 42,
   "metadata": {},
   "outputs": [
    {
     "name": "stdout",
     "output_type": "stream",
     "text": [
      "La probabilidad de que salga un equipo con una chica y cuatro chicos es de: 12.11 %\n",
      "La probabilidad de que salga un equipo con dos chicas y tres chicos es de: 32.3 %\n"
     ]
    }
   ],
   "source": [
    "ProbabilidadB = equiposB/equiposA\n",
    "print(f'La probabilidad de que salga un equipo con una chica y cuatro chicos es de: {round(ProbabilidadB*100,2)} %')\n",
    "ProbabilidadC = equiposC/equiposA\n",
    "print(f'La probabilidad de que salga un equipo con dos chicas y tres chicos es de: {round(ProbabilidadC*100,2)} %')\n"
   ]
  }
 ],
 "metadata": {
  "kernelspec": {
   "display_name": "Python 3",
   "language": "python",
   "name": "python3"
  },
  "language_info": {
   "codemirror_mode": {
    "name": "ipython",
    "version": 3
   },
   "file_extension": ".py",
   "mimetype": "text/x-python",
   "name": "python",
   "nbconvert_exporter": "python",
   "pygments_lexer": "ipython3",
   "version": "3.11.9"
  }
 },
 "nbformat": 4,
 "nbformat_minor": 2
}
